{
 "cells": [
  {
   "cell_type": "code",
   "execution_count": 1,
   "metadata": {},
   "outputs": [],
   "source": [
    "import pandas as pd \n",
    "import os\n",
    "from datetime import datetime, timedelta"
   ]
  },
  {
   "cell_type": "code",
   "execution_count": 2,
   "metadata": {},
   "outputs": [
    {
     "name": "stdout",
     "output_type": "stream",
     "text": [
      "maeva_part1.csv\n",
      "maeva_part10.csv\n",
      "maeva_part11.csv\n",
      "maeva_part12.csv\n",
      "maeva_part12_2.csv\n",
      "maeva_part2.csv\n",
      "maeva_part3.csv\n",
      "maeva_part4.csv\n",
      "maeva_part5.csv\n",
      "maeva_part6.csv\n",
      "maeva_part7.csv\n",
      "maeva_part8.csv\n",
      "maeva_part9.csv\n"
     ]
    },
    {
     "data": {
      "text/plain": [
       "13"
      ]
     },
     "execution_count": 2,
     "metadata": {},
     "output_type": "execute_result"
    }
   ],
   "source": [
    "all_files = os.listdir()    \n",
    "csv_files = list(filter(lambda f: f.endswith('.csv'), all_files))\n",
    "dfs = []\n",
    "for csv_file in csv_files:\n",
    "    print(csv_file)\n",
    "    dfs.append(pd.read_csv(csv_file, encoding='utf-8'))\n",
    "\n",
    "len(dfs)"
   ]
  },
  {
   "cell_type": "code",
   "execution_count": 3,
   "metadata": {},
   "outputs": [],
   "source": [
    "df = pd.concat(dfs)\n",
    "df.to_csv(\"maeva_all.csv\", index=False)"
   ]
  },
  {
   "cell_type": "code",
   "execution_count": 4,
   "metadata": {},
   "outputs": [],
   "source": [
    "def check_dates(dates:list, start_date, end_date, site='booking'):\n",
    "    all_dates = []\n",
    "    start = datetime.strptime(start_date, '%d/%m/%Y')\n",
    "    end = datetime.strptime(end_date, '%d/%m/%Y')\n",
    "    index_date = start\n",
    "\n",
    "    retrieve_dates = set()\n",
    "\n",
    "    while index_date <= end:\n",
    "        all_dates.append(index_date.strftime('%d/%m/%Y'))\n",
    "        if site == 'booking':\n",
    "            index_date = index_date + timedelta(days=1)\n",
    "        elif site == 'maeva':\n",
    "            index_date = index_date + timedelta(days=7)\n",
    "\n",
    "    for d in dates:\n",
    "        if d in all_dates:\n",
    "            retrieve_dates.add(d)\n",
    "\n",
    "    missing_dates = []\n",
    "\n",
    "    for d in all_dates:\n",
    "        if d not in list(retrieve_dates):\n",
    "            missing_dates.append(d)\n",
    "\n",
    "    return missing_dates\n"
   ]
  },
  {
   "cell_type": "code",
   "execution_count": 5,
   "metadata": {},
   "outputs": [],
   "source": [
    "def clean_maeva(src, dest):\n",
    "    import csv\n",
    "    csv_source = pd.read_csv(src, encoding='utf-8', keep_default_na=False)\n",
    "    csv_source = csv_source.drop_duplicates(subset=['date_price', 'date_debut', 'date_fin', 'prix_init', 'prix_actuel', 'typologie', 'n_offre', 'nom'])\n",
    "    csv_source.sort_values(inplace=True, ascending = True, by=['Nb semaines', 'date_debut'])\n",
    "    csv_source.to_csv(dest, index=False)\n"
   ]
  },
  {
   "cell_type": "code",
   "execution_count": 6,
   "metadata": {},
   "outputs": [
    {
     "name": "stderr",
     "output_type": "stream",
     "text": [
      "C:\\Users\\msi\\AppData\\Local\\Temp\\ipykernel_6224\\4136706745.py:3: DtypeWarning: Columns (12) have mixed types. Specify dtype option on import or set low_memory=False.\n",
      "  csv_source = pd.read_csv(src, encoding='utf-8', keep_default_na=False)\n"
     ]
    }
   ],
   "source": [
    "# here x should be replaced with the date of the monday of week scrap\n",
    "clean_maeva('./maeva_all.csv', 'maeva_cleaned_02_10_2023.csv')\n"
   ]
  }
 ],
 "metadata": {
  "kernelspec": {
   "display_name": "Python 3",
   "language": "python",
   "name": "python3"
  },
  "language_info": {
   "codemirror_mode": {
    "name": "ipython",
    "version": 3
   },
   "file_extension": ".py",
   "mimetype": "text/x-python",
   "name": "python",
   "nbconvert_exporter": "python",
   "pygments_lexer": "ipython3",
   "version": "3.11.3"
  },
  "orig_nbformat": 4
 },
 "nbformat": 4,
 "nbformat_minor": 2
}
